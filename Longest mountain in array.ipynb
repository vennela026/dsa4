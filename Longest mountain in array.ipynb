{
 "cells": [
  {
   "cell_type": "code",
   "execution_count": 1,
   "id": "6d5ce17c-a663-423e-9768-681c4f8e995c",
   "metadata": {},
   "outputs": [
    {
     "name": "stdout",
     "output_type": "stream",
     "text": [
      "5\n"
     ]
    }
   ],
   "source": [
    "def longestMountain(arr):\n",
    "    max_length = 0\n",
    "    i = 1   \n",
    "    while i < len(arr) - 1:\n",
    "        if arr[i-1] < arr[i] and arr[i] > arr[i+1]:\n",
    "            left, right = i-1, i+1\n",
    "            while left > 0 and arr[left-1] < arr[left]:\n",
    "                left -= 1\n",
    "            while right < len(arr)-1 and arr[right] > arr[right+1]:\n",
    "                right += 1\n",
    "            max_length = max(max_length, right - left + 1)\n",
    "        i += 1    \n",
    "    return max_length\n",
    "arr = [2, 1, 4, 7, 3, 2, 5]\n",
    "result = longestMountain(arr)\n",
    "print(result) "
   ]
  },
  {
   "cell_type": "code",
   "execution_count": null,
   "id": "2b5abe6c-231e-49ca-8c65-77a09f05d838",
   "metadata": {},
   "outputs": [],
   "source": []
  },
  {
   "cell_type": "code",
   "execution_count": null,
   "id": "648cb26c-5912-4305-bf42-acc8219532dc",
   "metadata": {},
   "outputs": [],
   "source": []
  }
 ],
 "metadata": {
  "kernelspec": {
   "display_name": "Python 3 (ipykernel)",
   "language": "python",
   "name": "python3"
  },
  "language_info": {
   "codemirror_mode": {
    "name": "ipython",
    "version": 3
   },
   "file_extension": ".py",
   "mimetype": "text/x-python",
   "name": "python",
   "nbconvert_exporter": "python",
   "pygments_lexer": "ipython3",
   "version": "3.12.7"
  }
 },
 "nbformat": 4,
 "nbformat_minor": 5
}
