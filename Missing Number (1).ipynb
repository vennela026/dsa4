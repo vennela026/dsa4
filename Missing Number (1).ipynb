{
 "cells": [
  {
   "cell_type": "code",
   "execution_count": 3,
   "id": "5b77a447-0d68-4f05-9f8d-30d13c86de00",
   "metadata": {},
   "outputs": [],
   "source": [
    "class Solution(object):\n",
    "    a=[1,2,3,5,6]\n",
    "    def removeDuplicates(self, nums):\n",
    "        \"\"\"\n",
    "        :type nums: List[int]\n",
    "        :rtype: int\n",
    "        \"\"\"\n",
    "        if not nums:\n",
    "            return 0\n",
    "        \n",
    "        i = 0\n",
    "        for j in range(1, len(nums)):\n",
    "            if nums[j] != nums[i]:\n",
    "                i += 1\n",
    "                nums[i] = nums[j]\n",
    "        return i + 1"
   ]
  },
  {
   "cell_type": "code",
   "execution_count": 22,
   "id": "2da5f887-690c-49c5-8f4e-ca300680a1e7",
   "metadata": {},
   "outputs": [
    {
     "name": "stdout",
     "output_type": "stream",
     "text": [
      "The missing number is: 4\n"
     ]
    }
   ],
   "source": [
    "def find_missing_number(a):\n",
    "    b=set(a)\n",
    "    minimum=min(b)\n",
    "    maximum=max(b)\n",
    "    c=set(range(minimum,maximum+1))\n",
    "    missing_num=(c-b).pop()   \n",
    "    return missing_num\n",
    "d=[1,2,3,5,6]\n",
    "e=find_missing_number(b)\n",
    "print(\"The missing number is:\",c)"
   ]
  },
  {
   "cell_type": "code",
   "execution_count": null,
   "id": "16ece6fa-2a29-43f6-9814-4dd9f4f8554f",
   "metadata": {},
   "outputs": [],
   "source": []
  },
  {
   "cell_type": "code",
   "execution_count": null,
   "id": "3da4a290-7a62-4861-a151-5202ee072e0b",
   "metadata": {},
   "outputs": [],
   "source": []
  }
 ],
 "metadata": {
  "kernelspec": {
   "display_name": "Python 3 (ipykernel)",
   "language": "python",
   "name": "python3"
  },
  "language_info": {
   "codemirror_mode": {
    "name": "ipython",
    "version": 3
   },
   "file_extension": ".py",
   "mimetype": "text/x-python",
   "name": "python",
   "nbconvert_exporter": "python",
   "pygments_lexer": "ipython3",
   "version": "3.12.7"
  }
 },
 "nbformat": 4,
 "nbformat_minor": 5
}
