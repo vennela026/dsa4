{
 "cells": [
  {
   "cell_type": "code",
   "execution_count": null,
   "id": "afc1bdea-d1f2-45e9-bbf2-107d0fc74db1",
   "metadata": {},
   "outputs": [],
   "source": [
    "def spiralOrder(matrix):\n",
    "    result=[]\n",
    "    while matrix:        \n",
    "        result+=matrix.pop(0)        \n",
    "        matrix=list(zip(*matrix))[::-1]\n",
    "    return result\n",
    "matrix=[\n",
    "    [1, 2, 3],\n",
    "    [4, 5, 6],\n",
    "    [7, 8, 9]]\n",
    "result=spiralOrder(matrix)\n",
    "print(result) "
   ]
  }
 ],
 "metadata": {
  "kernelspec": {
   "display_name": "Python 3 (ipykernel)",
   "language": "python",
   "name": "python3"
  },
  "language_info": {
   "codemirror_mode": {
    "name": "ipython",
    "version": 3
   },
   "file_extension": ".py",
   "mimetype": "text/x-python",
   "name": "python",
   "nbconvert_exporter": "python",
   "pygments_lexer": "ipython3",
   "version": "3.12.7"
  }
 },
 "nbformat": 4,
 "nbformat_minor": 5
}
