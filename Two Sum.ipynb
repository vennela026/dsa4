{
 "cells": [
  {
   "cell_type": "code",
   "execution_count": 4,
   "id": "9e143926-e89c-4274-ac29-b0c8ae6e99dc",
   "metadata": {},
   "outputs": [
    {
     "name": "stdout",
     "output_type": "stream",
     "text": [
      "[0, 1]\n"
     ]
    }
   ],
   "source": [
    "def two_sum(a, target):\n",
    "    b={}   \n",
    "    for i, num in enumerate(a):\n",
    "        complement = target-num       \n",
    "        if complement in b:\n",
    "            return [b[complement], i]       \n",
    "        b[num] = i    \n",
    "    return []\n",
    "a=[2, 7, 11, 15]\n",
    "target=9\n",
    "c=two_sum(a, target)\n",
    "print(c)"
   ]
  },
  {
   "cell_type": "code",
   "execution_count": null,
   "id": "3934c5ce-703d-4731-b8b3-9573d30ae2c4",
   "metadata": {},
   "outputs": [],
   "source": []
  },
  {
   "cell_type": "code",
   "execution_count": null,
   "id": "16c59ce3-0ba1-4d20-8b5a-ad6ac898ebf8",
   "metadata": {},
   "outputs": [],
   "source": []
  }
 ],
 "metadata": {
  "kernelspec": {
   "display_name": "Python 3 (ipykernel)",
   "language": "python",
   "name": "python3"
  },
  "language_info": {
   "codemirror_mode": {
    "name": "ipython",
    "version": 3
   },
   "file_extension": ".py",
   "mimetype": "text/x-python",
   "name": "python",
   "nbconvert_exporter": "python",
   "pygments_lexer": "ipython3",
   "version": "3.12.7"
  }
 },
 "nbformat": 4,
 "nbformat_minor": 5
}
