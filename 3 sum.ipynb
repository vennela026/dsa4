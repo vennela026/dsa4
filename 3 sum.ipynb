{
 "cells": [
  {
   "cell_type": "code",
   "execution_count": 3,
   "id": "c4ad1cfd-86bd-497f-b52f-0731a933039c",
   "metadata": {},
   "outputs": [
    {
     "name": "stdout",
     "output_type": "stream",
     "text": [
      "[[-1, -1, 2], [-1, 0, 1]]\n"
     ]
    }
   ],
   "source": [
    "def threeSum(a):\n",
    "    nums.sort()\n",
    "    result = []    \n",
    "    for i in range(len(a) - 2):\n",
    "        if i > 0 and a[i] ==a[i - 1]:\n",
    "            continue        \n",
    "        left, right = i + 1, len(a) - 1       \n",
    "        while left < right:\n",
    "            total = a[i] + a[left] + a[right]          \n",
    "            if total < 0:\n",
    "                left += 1\n",
    "            elif total > 0:\n",
    "                right -= 1\n",
    "            else:\n",
    "                result.append([a[i],a[left],a[right]])\n",
    "                while left < right and a[left] ==a[left + 1]:\n",
    "                    left += 1\n",
    "                while left < right and a[right] ==a[right - 1]:\n",
    "                    right -= 1\n",
    "                left += 1\n",
    "                right -= 1   \n",
    "    return result\n",
    "a= [-1, 0, 1, 2, -1, -4]\n",
    "result = threeSum(nums)\n",
    "print(result)"
   ]
  },
  {
   "cell_type": "code",
   "execution_count": null,
   "id": "40428942-fe9c-4e0c-a809-2517109e895c",
   "metadata": {},
   "outputs": [],
   "source": []
  }
 ],
 "metadata": {
  "kernelspec": {
   "display_name": "Python 3 (ipykernel)",
   "language": "python",
   "name": "python3"
  },
  "language_info": {
   "codemirror_mode": {
    "name": "ipython",
    "version": 3
   },
   "file_extension": ".py",
   "mimetype": "text/x-python",
   "name": "python",
   "nbconvert_exporter": "python",
   "pygments_lexer": "ipython3",
   "version": "3.12.7"
  }
 },
 "nbformat": 4,
 "nbformat_minor": 5
}
