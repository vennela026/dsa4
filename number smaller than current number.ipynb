{
 "cells": [
  {
   "cell_type": "code",
   "execution_count": 1,
   "id": "2337c3e3-d9f8-4fb8-8f12-431a32e21116",
   "metadata": {},
   "outputs": [
    {
     "name": "stdout",
     "output_type": "stream",
     "text": [
      "[4, 0, 1, 1, 3]\n"
     ]
    }
   ],
   "source": [
    "def smaller_numbers_than_current(a):\n",
    "    count = [0]*len(a)\n",
    "    b=sorted(a)    \n",
    "    for i, num in enumerate(a):\n",
    "        count[i] = b.index(num) \n",
    "    return count\n",
    "a=[8, 1, 2, 2, 3]\n",
    "c=smaller_numbers_than_current(a)\n",
    "print(c) "
   ]
  },
  {
   "cell_type": "code",
   "execution_count": null,
   "id": "13d80ec7-ed82-47d5-a824-f0740ccfb3e3",
   "metadata": {},
   "outputs": [],
   "source": []
  }
 ],
 "metadata": {
  "kernelspec": {
   "display_name": "Python 3 (ipykernel)",
   "language": "python",
   "name": "python3"
  },
  "language_info": {
   "codemirror_mode": {
    "name": "ipython",
    "version": 3
   },
   "file_extension": ".py",
   "mimetype": "text/x-python",
   "name": "python",
   "nbconvert_exporter": "python",
   "pygments_lexer": "ipython3",
   "version": "3.12.7"
  }
 },
 "nbformat": 4,
 "nbformat_minor": 5
}
