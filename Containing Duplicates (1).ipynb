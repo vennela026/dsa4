{
 "cells": [
  {
   "cell_type": "code",
   "execution_count": 3,
   "id": "214cb683-e7a8-4374-9cec-c6a8fa2db7df",
   "metadata": {},
   "outputs": [
    {
     "name": "stdout",
     "output_type": "stream",
     "text": [
      "True\n"
     ]
    }
   ],
   "source": [
    "def containsDuplicate(a):\n",
    "    b= set()    \n",
    "    for num in a:\n",
    "        if num in b:\n",
    "            return True\n",
    "        b.add(num)    \n",
    "    return False\n",
    "a=[1, 2, 3, 1]\n",
    "result = containsDuplicate(a)\n",
    "print(result)"
   ]
  },
  {
   "cell_type": "code",
   "execution_count": null,
   "id": "12cad85a-7ea7-40ac-b298-f55ab679271f",
   "metadata": {},
   "outputs": [],
   "source": []
  }
 ],
 "metadata": {
  "kernelspec": {
   "display_name": "Python 3 (ipykernel)",
   "language": "python",
   "name": "python3"
  },
  "language_info": {
   "codemirror_mode": {
    "name": "ipython",
    "version": 3
   },
   "file_extension": ".py",
   "mimetype": "text/x-python",
   "name": "python",
   "nbconvert_exporter": "python",
   "pygments_lexer": "ipython3",
   "version": "3.12.7"
  }
 },
 "nbformat": 4,
 "nbformat_minor": 5
}
