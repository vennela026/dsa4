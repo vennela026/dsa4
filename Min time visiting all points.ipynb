{
 "cells": [
  {
   "cell_type": "code",
   "execution_count": 3,
   "id": "e6b2914d-7a09-43a1-8454-e8b29f5613bb",
   "metadata": {},
   "outputs": [
    {
     "name": "stdout",
     "output_type": "stream",
     "text": [
      "7\n"
     ]
    }
   ],
   "source": [
    "def minTimeToVisitAllPoints(a):\n",
    "    time=0\n",
    "    for i in range(1, len(a)):\n",
    "        b=abs(a[i][0]-a[i-1][0])\n",
    "        c=abs(a[i][1]-a[i-1][1])\n",
    "        time+= max(b,c)\n",
    "    return time\n",
    "a=[[1,1],[3,4],[-1,0]]\n",
    "d=minTimeToVisitAllPoints(a)\n",
    "print(d)"
   ]
  },
  {
   "cell_type": "code",
   "execution_count": null,
   "id": "047ddfb9-4c49-40f9-8341-05177be0d647",
   "metadata": {},
   "outputs": [],
   "source": []
  },
  {
   "cell_type": "code",
   "execution_count": null,
   "id": "4faaef64-29db-4efb-8a82-af8973006b72",
   "metadata": {},
   "outputs": [],
   "source": []
  }
 ],
 "metadata": {
  "kernelspec": {
   "display_name": "Python 3 (ipykernel)",
   "language": "python",
   "name": "python3"
  },
  "language_info": {
   "codemirror_mode": {
    "name": "ipython",
    "version": 3
   },
   "file_extension": ".py",
   "mimetype": "text/x-python",
   "name": "python",
   "nbconvert_exporter": "python",
   "pygments_lexer": "ipython3",
   "version": "3.12.7"
  }
 },
 "nbformat": 4,
 "nbformat_minor": 5
}
